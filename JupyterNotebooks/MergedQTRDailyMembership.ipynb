{
 "cells": [
  {
   "cell_type": "markdown",
   "metadata": {},
   "source": [
    "## Merge and Clean Daily Membership csv Files"
   ]
  },
  {
   "cell_type": "markdown",
   "metadata": {},
   "source": [
    "#### Import Dependencies"
   ]
  },
  {
   "cell_type": "code",
   "execution_count": 3,
   "metadata": {},
   "outputs": [],
   "source": [
    "import pandas as pd\n",
    "import os\n",
    "from glob import glob"
   ]
  },
  {
   "cell_type": "markdown",
   "metadata": {},
   "source": [
    "#### Read Data File "
   ]
  },
  {
   "cell_type": "code",
   "execution_count": 4,
   "metadata": {},
   "outputs": [],
   "source": [
    "#Assigned a variable for all the csv files \n",
    "DailyMembershipFiles = [\"RawData/QTRDailyMembershipData/data-7OLX8.csv\",\"RawData/QTRDailyMembershipData/data-FKjZg.csv\",\"RawData/QTRDailyMembershipData/data-pRAtm.csv\",\"RawData/QTRDailyMembershipData/data-tqNn6.csv\"]"
   ]
  },
  {
   "cell_type": "markdown",
   "metadata": {},
   "source": [
    "#### Iterate through files to create a single dataframe with data for each month"
   ]
  },
  {
   "cell_type": "code",
   "execution_count": 5,
   "metadata": {},
   "outputs": [],
   "source": [
    "dataframe = []\n",
    "for d in DailyMembershipFiles:\n",
    "    dataframe.append(pd.read_csv(d))\n",
    "DailyMembershipframe = pd.concat(dataframe, ignore_index=True)"
   ]
  },
  {
   "cell_type": "code",
   "execution_count": 6,
   "metadata": {},
   "outputs": [
    {
     "data": {
      "text/html": [
       "<div>\n",
       "<style scoped>\n",
       "    .dataframe tbody tr th:only-of-type {\n",
       "        vertical-align: middle;\n",
       "    }\n",
       "\n",
       "    .dataframe tbody tr th {\n",
       "        vertical-align: top;\n",
       "    }\n",
       "\n",
       "    .dataframe thead th {\n",
       "        text-align: right;\n",
       "    }\n",
       "</style>\n",
       "<table border=\"1\" class=\"dataframe\">\n",
       "  <thead>\n",
       "    <tr style=\"text-align: right;\">\n",
       "      <th></th>\n",
       "      <th>Date</th>\n",
       "      <th>Trips over the past 24-hours (midnight to 11:59pm)</th>\n",
       "      <th>Miles traveled today (midnight to 11:59 pm)</th>\n",
       "      <th>Total Annual Members (All Time)</th>\n",
       "      <th>24-Hour Passes Purchased (midnight to 11:59 pm)</th>\n",
       "      <th>3-Day Passes Purchased (midnight to 11:59 pm)</th>\n",
       "    </tr>\n",
       "  </thead>\n",
       "  <tbody>\n",
       "    <tr>\n",
       "      <th>0</th>\n",
       "      <td>1/1/2018</td>\n",
       "      <td>5499</td>\n",
       "      <td>11483</td>\n",
       "      <td>253490</td>\n",
       "      <td>123</td>\n",
       "      <td>7</td>\n",
       "    </tr>\n",
       "    <tr>\n",
       "      <th>1</th>\n",
       "      <td>1/2/2018</td>\n",
       "      <td>18818</td>\n",
       "      <td>39352</td>\n",
       "      <td>253558</td>\n",
       "      <td>125</td>\n",
       "      <td>12</td>\n",
       "    </tr>\n",
       "    <tr>\n",
       "      <th>2</th>\n",
       "      <td>1/3/2018</td>\n",
       "      <td>24299</td>\n",
       "      <td>42853</td>\n",
       "      <td>253591</td>\n",
       "      <td>164</td>\n",
       "      <td>4</td>\n",
       "    </tr>\n",
       "    <tr>\n",
       "      <th>3</th>\n",
       "      <td>1/4/2018</td>\n",
       "      <td>1922</td>\n",
       "      <td>5328</td>\n",
       "      <td>253604</td>\n",
       "      <td>2</td>\n",
       "      <td>1</td>\n",
       "    </tr>\n",
       "    <tr>\n",
       "      <th>4</th>\n",
       "      <td>1/5/2018</td>\n",
       "      <td>4972</td>\n",
       "      <td>14303</td>\n",
       "      <td>253614</td>\n",
       "      <td>14</td>\n",
       "      <td>0</td>\n",
       "    </tr>\n",
       "  </tbody>\n",
       "</table>\n",
       "</div>"
      ],
      "text/plain": [
       "       Date  Trips over the past 24-hours (midnight to 11:59pm)  \\\n",
       "0  1/1/2018                                               5499    \n",
       "1  1/2/2018                                              18818    \n",
       "2  1/3/2018                                              24299    \n",
       "3  1/4/2018                                               1922    \n",
       "4  1/5/2018                                               4972    \n",
       "\n",
       "   Miles traveled today (midnight to 11:59 pm)  \\\n",
       "0                                        11483   \n",
       "1                                        39352   \n",
       "2                                        42853   \n",
       "3                                         5328   \n",
       "4                                        14303   \n",
       "\n",
       "   Total Annual Members (All Time)  \\\n",
       "0                           253490   \n",
       "1                           253558   \n",
       "2                           253591   \n",
       "3                           253604   \n",
       "4                           253614   \n",
       "\n",
       "   24-Hour Passes Purchased (midnight to 11:59 pm)  \\\n",
       "0                                              123   \n",
       "1                                              125   \n",
       "2                                              164   \n",
       "3                                                2   \n",
       "4                                               14   \n",
       "\n",
       "   3-Day Passes Purchased (midnight to 11:59 pm)  \n",
       "0                                              7  \n",
       "1                                             12  \n",
       "2                                              4  \n",
       "3                                              1  \n",
       "4                                              0  "
      ]
     },
     "execution_count": 6,
     "metadata": {},
     "output_type": "execute_result"
    }
   ],
   "source": [
    "DailyMembershipframe.head()"
   ]
  },
  {
   "cell_type": "markdown",
   "metadata": {},
   "source": [
    "### Covert merged dataset into csv file"
   ]
  },
  {
   "cell_type": "code",
   "execution_count": 7,
   "metadata": {},
   "outputs": [],
   "source": [
    "DailyMembershipframe.to_csv('2018DailyMembership.csv')"
   ]
  },
  {
   "cell_type": "code",
   "execution_count": null,
   "metadata": {},
   "outputs": [],
   "source": []
  }
 ],
 "metadata": {
  "kernelspec": {
   "display_name": "Python 3",
   "language": "python",
   "name": "python3"
  },
  "language_info": {
   "codemirror_mode": {
    "name": "ipython",
    "version": 3
   },
   "file_extension": ".py",
   "mimetype": "text/x-python",
   "name": "python",
   "nbconvert_exporter": "python",
   "pygments_lexer": "ipython3",
   "version": "3.7.3"
  }
 },
 "nbformat": 4,
 "nbformat_minor": 4
}
